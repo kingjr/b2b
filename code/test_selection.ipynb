{
 "cells": [
  {
   "cell_type": "code",
   "execution_count": 836,
   "metadata": {
    "scrolled": false
   },
   "outputs": [
    {
     "name": "stdout",
     "output_type": "stream",
     "text": [
      "dx= 2  dy= 2 snr= 0.1\n",
      "feature_selection:  0.59\n",
      "unsel:  0.0027066308639663523\n",
      "sel:  0.007304384296916833\n",
      "elapsed:  2.002516031265259\n",
      "\n",
      "dx= 2  dy= 2 snr= 0.2\n",
      "feature_selection:  0.2\n",
      "unsel:  0.007849133189168784\n",
      "sel:  0.0561802610927777\n",
      "elapsed:  2.019768714904785\n",
      "\n",
      "dx= 2  dy= 2 snr= 0.3\n",
      "feature_selection:  0.04\n",
      "unsel:  0.01582442986474757\n",
      "sel:  0.12880445539763272\n",
      "elapsed:  2.0171291828155518\n",
      "\n",
      "dx= 2  dy= 2 snr= 0.4\n",
      "feature_selection:  0.02\n",
      "unsel:  0.01814022643774367\n",
      "sel:  0.2086027617013421\n",
      "elapsed:  2.03240704536438\n",
      "\n",
      "dx= 2  dy= 2 snr= 0.5\n",
      "feature_selection:  0.0\n",
      "unsel:  0.016276179655429556\n",
      "sel:  0.3099113748232392\n",
      "elapsed:  2.0179190635681152\n",
      "\n",
      "dx= 2  dy= 2 snr= 0.6\n",
      "feature_selection:  0.0\n",
      "unsel:  0.018442419077443283\n",
      "sel:  0.3903024229617405\n",
      "elapsed:  2.0422868728637695\n",
      "\n",
      "dx= 2  dy= 2 snr= 0.7\n",
      "feature_selection:  0.0\n",
      "unsel:  0.010923578448933248\n",
      "sel:  0.47277833711189887\n",
      "elapsed:  2.383894920349121\n",
      "\n",
      "dx= 2  dy= 2 snr= 0.8\n",
      "feature_selection:  0.0\n",
      "unsel:  0.008154122167273892\n",
      "sel:  0.548462912381192\n",
      "elapsed:  2.104318141937256\n",
      "\n",
      "dx= 2  dy= 2 snr= 0.9\n",
      "feature_selection:  0.0\n",
      "unsel:  0.012190130127188687\n",
      "sel:  0.5977577274953583\n",
      "elapsed:  2.095828056335449\n",
      "\n",
      "dx= 2  dy= 2 snr= 1.0\n",
      "feature_selection:  0.0\n",
      "unsel:  0.0076378360094691965\n",
      "sel:  0.6543413645706329\n",
      "elapsed:  2.145350217819214\n",
      "\n",
      "total= 20.86232900619507\n",
      "[0.005296302954547639, 0.03430445096681801, 0.0696177296597664, 0.10934155772904879, 0.17033542873797586, 0.20374881127465172, 0.1925870330350415, 0.3117199261825406, 0.3167878957086417, 0.36084442588578297]\n",
      "[0.004714712206335541, 0.029724943315128458, 0.07501115560261389, 0.11740143041003703, 0.15585212574069307, 0.20499603076453193, 0.2911148825257906, 0.24489710836592515, 0.2931599619139055, 0.301134774694319]\n"
     ]
    },
    {
     "data": {
      "text/plain": [
       "<matplotlib.image.AxesImage at 0x1a20f0cef0>"
      ]
     },
     "execution_count": 836,
     "metadata": {},
     "output_type": "execute_result"
    },
    {
     "data": {
      "image/png": "[encoded data removed]",
      "text/plain": [
       "<Figure size 864x360 with 1 Axes>"
      ]
     },
     "metadata": {
      "needs_background": "light"
     },
     "output_type": "display_data"
    },
    {
     "data": {
      "image/png": "[encoded data removed]",
      "text/plain": [
       "<Figure size 288x288 with 1 Axes>"
      ]
     },
     "metadata": {
      "needs_background": "light"
     },
     "output_type": "display_data"
    }
   ],
   "source": [
    "%matplotlib inline\n",
    "from sklearn.linear_model import RidgeCV\n",
    "from sklearn.model_selection import ShuffleSplit\n",
    "\n",
    "import numpy as np\n",
    "import itertools\n",
    "from time import time\n",
    "from scipy.linalg import sqrtm\n",
    "\n",
    "\n",
    "def regression(x, y):\n",
    "    return RidgeCV(fit_intercept=False,alphas=np.logspace(-3,3,10)).fit(x, y)\n",
    "\n",
    "def bagged_jr(x,y):\n",
    "    bagging = ShuffleSplit(10, test_size=.5)\n",
    "    ensemble = [split for split in bagging.split(x, y)]\n",
    "    H = list()\n",
    "    for fir, sec in ensemble:\n",
    "        xhat=regression(y[fir], x[fir]).predict(y[sec])\n",
    "        H += [regression(x[sec],xhat).coef_, ]\n",
    "    return np.mean(H, 0)\n",
    "\n",
    "def sonquist_morgan(x):\n",
    "    z=np.sort(x)\n",
    "    n=z.size\n",
    "    m1=0\n",
    "    m2=np.sum(z)\n",
    "    mx=0\n",
    "    best=-1\n",
    "    for i in range(n-1): \n",
    "        m1+=z[i]\n",
    "        m2-=z[i]\n",
    "        ind=(i+1)*(n-i-1)*(m1/(i+1)-m2/(n-i-1))**2\n",
    "        if ind>mx :\n",
    "            mx=ind\n",
    "            best=z[i]\n",
    "    K=mx/(np.var(x)*n)\n",
    "    return (x>(best+1.0e-6))\n",
    "\n",
    "\n",
    "# randn(n,p)/sqrt(min(n,p)) : eigenvalues in the unit circle\n",
    "def randmat(d_x,d_y):  \n",
    "    mul=np.sqrt(min(d_x,d_y))\n",
    "    M=np.random.randn(d_x,d_y)/mul\n",
    "    return M    \n",
    "    \n",
    "# Y = F(MEX+N)  \n",
    "# X(d_x,n) E(d_x,d_x) M(d_z,d_x) N(d_z,n) F(d_y,d_z) Y(d_y,n)\n",
    "# [0,n]= training set, [n,4n]: 3 test set, ratio of variance btw training and test (environment) [.5,1,2]\n",
    "def make_data(n=1000, d_x=100, d_z=100, d_y=50, snr=0.2, nc=2):  \n",
    "    X=randmat(4*n,d_x)@randmat(d_x,d_x)\n",
    "    x1=0.5*randmat(n,d_x)@randmat(d_x,d_x)\n",
    "    x2=1.*randmat(n,d_x)@randmat(d_x,d_x)\n",
    "    x3=2.*randmat(n,d_x)@randmat(d_x,d_x)\n",
    "    for i in range(n): \n",
    "        X[i+n]=x1[i]\n",
    "        X[i+2*n]=x2[i]\n",
    "        X[i+3*n]=x3[i]\n",
    "    E=np.zeros(d_x)\n",
    "    E[-nc:]=1.\n",
    "    E=np.diag(E)    \n",
    "    M=randmat(d_x,d_z)\n",
    "    Z = X @ E @ M *snr + randmat(4*n, d_z)\n",
    "    F = randmat(d_z, d_y)  \n",
    "    Y = Z @ F \n",
    "    return Y, X, E, F\n",
    "\n",
    "\n",
    "\n",
    "def rolling_covariance(rho, dim):\n",
    "    cov = np.zeros((dim, dim))\n",
    "    for i in range(cov.shape[0]):\n",
    "        for j in range(cov.shape[1]):\n",
    "            cov[i, j] = np.power(rho, np.abs(i - j) / dim)\n",
    "    return cov\n",
    "\n",
    "\n",
    "def synthetic_data_v_1_0(n_samples=1000,   # number of samples\n",
    "                         dim_x=50,         # number of features\n",
    "                         rho_x=0.5,        # correlation of features\n",
    "                         rho_n=0.5,        # correlation of noise\n",
    "                         dim_y=30,         # number of sensors\n",
    "                         snr=1.0,          # signal-to-noise ratio\n",
    "                         nc=5,             # number of selected features\n",
    "                         nonlinear=False):  # number of selected features\n",
    "    # linear transformation\n",
    "    F = np.random.randn(dim_x, dim_y) / np.sqrt(min(dim_x,dim_y))\n",
    "\n",
    "    # masking transformation\n",
    "    E = np.array([0] * (dim_x - nc) + [1] * (nc))\n",
    "    np.random.shuffle(E)\n",
    "    E = np.diag(E)\n",
    "\n",
    "    # features\n",
    "    cov_X = rolling_covariance(rho_x, dim_x)\n",
    "    X = np.random.randn(n_samples, dim_x) @ sqrtm(cov_X)\n",
    "    np.random.shuffle(X.T)\n",
    "\n",
    "    # noise\n",
    "    cov_N = rolling_covariance(rho_n, dim_x)\n",
    "    N = np.random.randn(n_samples, dim_x) @ sqrtm(cov_N)\n",
    "    np.random.shuffle(N.T)\n",
    "\n",
    "    # observed sensor data\n",
    "    Y = (snr * X @ E + N) @ F\n",
    "\n",
    "    if nonlinear:\n",
    "        Y = 1. / (1. + math.exp(-Y))\n",
    "\n",
    "    # return inputs, outputs, and solution\n",
    "    return X, Y, E\n",
    "\n",
    "\n",
    "n=1000\n",
    "nc=1\n",
    "snr=0.8\n",
    "dx=100\n",
    "dy=1\n",
    "v=[]\n",
    "w=[]\n",
    "test_regr=False\n",
    "myniter=100\n",
    "s0=time()\n",
    "for dx,dy,sn in itertools.product(range(2,101,100),range(2,101,100),range(1,11,1)):\n",
    "    snr=sn/10.\n",
    "    start = time()\n",
    "    sc_base=0\n",
    "    sc_sonqfit=0\n",
    "    sc_average=0\n",
    "    sc_average2=0\n",
    "    sc_hat=0\n",
    "    sc_sonq=0\n",
    "    sc_oracle=0\n",
    "    v.append(0)\n",
    "    w.append(0)\n",
    "    for iter in range(myniter):\n",
    "        X, Y, e = synthetic_data_v_1_0(n_samples=n,dim_x=dx,dim_y=dy,snr=snr,nc=nc,rho_x=0.8)\n",
    "        train=(range(n//2))\n",
    "        test=(range(n//2,n))\n",
    "        x=X[train]\n",
    "        y=Y[train]\n",
    "        mat_jr = bagged_jr(x, y)\n",
    "        dia=np.diag(mat_jr)\n",
    "        sonqsel=sonquist_morgan(dia)\n",
    "        sc_sonqfit+=np.sum(abs(np.diag(e)-sonqsel))\n",
    "        sc_average+=(np.sum(dia-np.diag(e)*dia))/nc\n",
    "        sc_average2+=np.sum(np.diag(e)*dia)/nc\n",
    "        v[sn-1]+=dia[1]\n",
    "        w[sn-1]+=dia[0]\n",
    "        if test_regr:\n",
    "            base=RidgeCV().fit(x,y)\n",
    "            hat=RidgeCV().fit(x@np.diag(dia) ,y)\n",
    "            sonq=RidgeCV().fit(x@np.diag(sonqsel) ,y)\n",
    "            oracle=RidgeCV().fit(x@df ,y)\n",
    "            xt=X[test]\n",
    "            yt=Y[test]\n",
    "            sc_base+=base.score(xt,yt)\n",
    "            sc_hat+=hat.score(xt@np.diag(dia) ,yt)\n",
    "            sc_sonq+=sonq.score(xt@np.diag(sonqsel) ,yt)\n",
    "            sc_oracle+=oracle.score(xt@df ,yt)\n",
    "\n",
    "    print(\"dx=\",dx, \" dy=\",dy, \"snr=\",snr)\n",
    "    if test_regr:\n",
    "        sc_base/=myniter\n",
    "        sc_hat/=myniter\n",
    "        sc_sonq/=myniter\n",
    "        sc_oracle/=myniter\n",
    "        print(\"base fit R2: \", sc_base)\n",
    "        print(\"e-hat R2: \",sc_hat)\n",
    "        print(\"sonquist R2: \",sc_sonq)\n",
    "        print(\"oracle R2: \",sc_oracle)\n",
    "    \n",
    "    v[sn-1]/=myniter\n",
    "    w[sn-1]/=myniter\n",
    "    print(\"feature_selection: \",sc_sonqfit/myniter)\n",
    "    print(\"unsel: \",sc_average/myniter)\n",
    "    print(\"sel: \",sc_average2/myniter)\n",
    "    print(\"elapsed: \",time()-start)\n",
    "    print(\"\")\n",
    "\n",
    "    \n",
    "print(\"total=\",time()-s0)\n",
    "print(v)\n",
    "print(w)\n",
    "plt.figure(figsize=(12, 5))\n",
    "plt.subplot(1, 3, 1)\n",
    "plt.title(\"Nr error vs dim_y\")\n",
    "plt.bar(np.arange(1,11,1), v)\n",
    "plt.bar(np.arange(1,11,1), w)\n",
    "\n",
    "#plt.subplot(1, 3, 2)\n",
    "#plt.title(\"sonquist selection\")\n",
    "#plt.bar(range(len(sonqsel)),sonqsel)\n",
    "\n",
    "#plt.subplot(1, 3, 3)\n",
    "#plt.title(\"t test selection (95%)\")\n",
    "#plt.bar(range(len(pvalsel)), pvalsel)\n",
    "#plt.title(\"sorted JR diagonal\")\n",
    "mj=mat_jr-np.diag(dia)\n",
    "#plt.bar(range(len(dia)), np.var(mj,1))\n",
    "plt.tight_layout()\n",
    "plt.matshow(mat_jr)\n",
    "\n",
    "    "
   ]
  },
  {
   "cell_type": "code",
   "execution_count": 793,
   "metadata": {},
   "outputs": [
    {
     "name": "stdout",
     "output_type": "stream",
     "text": [
      "range(1, 5, 2)\n"
     ]
    }
   ],
   "source": [
    "print(range(1,5,2))\n"
   ]
  },
  {
   "cell_type": "raw",
   "metadata": {},
   "source": [
    "\n",
    "\n",
    "\n",
    "\n",
    "\n",
    "\n",
    "\n",
    "\n",
    "\n",
    "\n",
    "\n",
    "\n",
    "\n",
    "\n",
    "\n",
    "\n",
    "\n",
    "\n",
    "\n",
    "\n",
    "\n",
    "\n",
    "\n",
    "\n",
    "\n",
    "\n",
    "\n",
    "\n",
    "\n",
    "\n",
    "\n",
    "\n",
    "\n",
    "\n",
    "\n"
   ]
  },
  {
   "cell_type": "raw",
   "metadata": {},
   "source": [
    "\n",
    "\n",
    "\n",
    "[1, 2, 3]**2\n",
    "\n",
    "\n",
    "\n",
    "\n",
    "\n",
    "\n",
    "\n",
    "\n",
    "\n",
    "\n",
    "\n",
    "\n",
    "\n",
    "\n",
    "\n",
    "\n",
    "\n",
    "\n",
    "\n",
    "\n",
    "\n",
    "\n",
    "\n",
    "\n",
    "\n",
    "\n",
    "\n",
    "\n",
    "\n",
    "\n",
    "\n",
    "\n"
   ]
  },
  {
   "cell_type": "raw",
   "metadata": {},
   "source": [
    "\n",
    "\n",
    "\n",
    "\n",
    "\n",
    "\n",
    "\n",
    "\n",
    "\n",
    "\n",
    "\n",
    "\n",
    "\n",
    "\n",
    "\n",
    "\n",
    "\n",
    "\n",
    "\n",
    "\n",
    "\n",
    "\n",
    "\n",
    "\n",
    "\n",
    "\n",
    "\n",
    "\n",
    "\n",
    "\n",
    "\n",
    "\n",
    "\n",
    "\n",
    "\n"
   ]
  },
  {
   "cell_type": "code",
   "execution_count": 795,
   "metadata": {},
   "outputs": [
    {
     "name": "stdout",
     "output_type": "stream",
     "text": [
      "range(1, 5, 2)\n"
     ]
    }
   ],
   "source": [
    "print(range(1,5,2))"
   ]
  },
  {
   "cell_type": "raw",
   "metadata": {},
   "source": [
    "\n",
    "\n",
    "\n",
    "\n",
    "\n",
    "\n",
    "\n",
    "\n",
    "\n",
    "\n",
    "\n",
    "\n",
    "\n",
    "\n",
    "\n",
    "\n",
    "\n",
    "\n",
    "\n",
    "\n",
    "\n",
    "\n",
    "\n",
    "\n",
    "\n",
    "\n",
    "\n",
    "\n",
    "\n",
    "\n",
    "\n",
    "\n",
    "\n",
    "\n",
    "\n"
   ]
  },
  {
   "cell_type": "code",
   "execution_count": 774,
   "metadata": {},
   "outputs": [
    {
     "ename": "TypeError",
     "evalue": "unsupported operand type(s) for ** or pow(): 'list' and 'int'",
     "output_type": "error",
     "traceback": [
      "\u001b[0;31m---------------------------------------------------------------------------\u001b[0m",
      "\u001b[0;31mTypeError\u001b[0m                                 Traceback (most recent call last)",
      "\u001b[0;32m<ipython-input-774-5d3e45dcb301>\u001b[0m in \u001b[0;36m<module>\u001b[0;34m\u001b[0m\n\u001b[0;32m----> 1\u001b[0;31m \u001b[0;34m[\u001b[0m\u001b[0;36m1\u001b[0m\u001b[0;34m,\u001b[0m\u001b[0;36m2\u001b[0m\u001b[0;34m,\u001b[0m\u001b[0;36m3\u001b[0m\u001b[0;34m]\u001b[0m\u001b[0;34m**\u001b[0m\u001b[0;36m2\u001b[0m\u001b[0;34m\u001b[0m\u001b[0;34m\u001b[0m\u001b[0m\n\u001b[0m",
      "\u001b[0;31mTypeError\u001b[0m: unsupported operand type(s) for ** or pow(): 'list' and 'int'"
     ]
    }
   ],
   "source": [
    "[1,2,3]**2"
   ]
  },
  {
   "cell_type": "code",
   "execution_count": 777,
   "metadata": {},
   "outputs": [
    {
     "data": {
      "text/plain": [
       "[1, 2, 3, 4]"
      ]
     },
     "execution_count": 777,
     "metadata": {},
     "output_type": "execute_result"
    }
   ],
   "source": [
    "[1,2,3,4,5,6][:-2]"
   ]
  },
  {
   "cell_type": "code",
   "execution_count": 799,
   "metadata": {},
   "outputs": [
    {
     "name": "stdout",
     "output_type": "stream",
     "text": [
      "range(1, 5)\n"
     ]
    }
   ],
   "source": [
    "v=range(1,5)\n",
    "print(v)"
   ]
  },
  {
   "cell_type": "code",
   "execution_count": null,
   "metadata": {},
   "outputs": [],
   "source": []
  },
  {
   "cell_type": "code",
   "execution_count": null,
   "metadata": {},
   "outputs": [],
   "source": []
  },
  {
   "cell_type": "code",
   "execution_count": null,
   "metadata": {},
   "outputs": [],
   "source": []
  },
  {
   "cell_type": "code",
   "execution_count": null,
   "metadata": {},
   "outputs": [],
   "source": []
  },
  {
   "cell_type": "code",
   "execution_count": null,
   "metadata": {},
   "outputs": [],
   "source": []
  },
  {
   "cell_type": "code",
   "execution_count": null,
   "metadata": {},
   "outputs": [],
   "source": []
  },
  {
   "cell_type": "code",
   "execution_count": null,
   "metadata": {},
   "outputs": [],
   "source": [
    "\n",
    "\n",
    "\n",
    "\n",
    "\n",
    "\n",
    "\n",
    "\n",
    "\n"
   ]
  },
  {
   "cell_type": "code",
   "execution_count": null,
   "metadata": {},
   "outputs": [],
   "source": []
  }
 ],
 "metadata": {
  "kernelspec": {
   "display_name": "Python 3",
   "language": "python",
   "name": "python3"
  },
  "language_info": {
   "codemirror_mode": {
    "name": "ipython",
    "version": 3
   },
   "file_extension": ".py",
   "mimetype": "text/x-python",
   "name": "python",
   "nbconvert_exporter": "python",
   "pygments_lexer": "ipython3",
   "version": "3.7.1"
  }
 },
 "nbformat": 4,
 "nbformat_minor": 2
}
