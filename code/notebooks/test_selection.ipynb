{
 "cells": [
  {
   "cell_type": "code",
   "execution_count": 188,
   "metadata": {},
   "outputs": [
    {
     "data": {
      "text/plain": [
       "<matplotlib.image.AxesImage at 0x1a289364a8>"
      ]
     },
     "execution_count": 188,
     "metadata": {},
     "output_type": "execute_result"
    },
    {
     "data": {
      "image/png": "[encoded data removed]",
      "text/plain": [
       "<Figure size 864x432 with 3 Axes>"
      ]
     },
     "metadata": {
      "needs_background": "light"
     },
     "output_type": "display_data"
    },
    {
     "data": {
      "image/png": "[encoded data removed]",
      "text/plain": [
       "<Figure size 288x288 with 1 Axes>"
      ]
     },
     "metadata": {
      "needs_background": "light"
     },
     "output_type": "display_data"
    }
   ],
   "source": [
    "%matplotlib inline\n",
    "from sklearn.linear_model import RidgeCV\n",
    "import numpy as np\n",
    "\n",
    "def regression(x, y):\n",
    "    return RidgeCV().fit(x, y)\n",
    "\n",
    "def unbagged_jr(x, y):\n",
    "    c=regression(x, regression(y, x).predict(y)).coef_\n",
    "    return c\n",
    "\n",
    "def bagged_jr(x,y):\n",
    "    n=x.shape[0]\n",
    "    p = n//2\n",
    "    x1=x[0:p]\n",
    "    x2=x[p:n]\n",
    "    y1=y[0:p]\n",
    "    y2=y[p:n]\n",
    "    c=regression(x2, regression(y1, x1).predict(y2)).coef_\n",
    "    return c\n",
    "\n",
    "def sonquist_morgan(x):\n",
    "    z=np.sort(x)\n",
    "    n=z.size\n",
    "    m1=0\n",
    "    m2=np.sum(z)\n",
    "    mx=0\n",
    "    best=-1\n",
    "    for i in range(n-1): \n",
    "        m1+=z[i]\n",
    "        m2-=z[i]\n",
    "        ind=(i+1)*(n-i-1)*(m1/(i+1)-m2/(n-i-1))**2\n",
    "        if ind>mx :\n",
    "            mx=ind\n",
    "            best=z[i]\n",
    "    res=[0 for i in range(n)]\n",
    "    for i in range(n): \n",
    "        if x[i]>best: res[i] = 1 \n",
    "    return res\n",
    "    \n",
    "\n",
    "# Adapted from\n",
    "# https://regressors.readthedocs.io/en/latest/\n",
    "# https://github.com/nsh87/regressors/blob/master/regressors/stats.py\n",
    "    \n",
    "import scipy\n",
    "from sklearn import metrics\n",
    "\n",
    "def sse(clf, X, y, i):\n",
    "    y_hat = clf.predict(X)\n",
    "    sse = np.sum((y_hat[:, i] - y[:, i]) ** 2)\n",
    "    return sse\n",
    "\n",
    "def coef_se(clf, X, y, i):\n",
    "    n = X.shape[0]\n",
    "    X1 = np.hstack((np.ones((n, 1)), np.matrix(X)))\n",
    "    se_matrix = scipy.linalg.sqrtm(\n",
    "        metrics.mean_squared_error(y[:, i], clf.predict(X)[:, i]) *\n",
    "        np.linalg.inv(X1.T * X1+1.0e-7*np.identity(X1.shape[1]))  #FC: minimal regularization\n",
    "    )\n",
    "    return np.diagonal(se_matrix)\n",
    "\n",
    "def coef_tval(clf, X, y, i):\n",
    "    b = np.array(clf.coef_[i] / coef_se(clf, X, y, i)[1:])\n",
    "    \n",
    "    if clf.fit_intercept:\n",
    "        a = np.array(clf.intercept_[i] / coef_se(clf, X, y, i)[0])\n",
    "        return np.append(a, b)\n",
    "    return b\n",
    "\n",
    "def coef_pval(clf, X, y, i):\n",
    "    n = X.shape[0]\n",
    "    t = coef_tval(clf, X, y, i)\n",
    "    t[t<0]=0 #FC no negative coeffs, should the confidence interval be changed?\n",
    "    p = 2 * (1 - scipy.stats.t.cdf(abs(t), n - 1))\n",
    "    return p\n",
    "\n",
    "    \n",
    "    \n",
    "#  Y = F(EX+N)\n",
    "def make_data(n=1000, d_x=40, d_z=30, d_y=100, snr=0.05, nc=2):   \n",
    "    X = np.random.randn(n, d_x) \n",
    "    nc = d_x if nc <= 0 else nc\n",
    "    E = np.zeros((d_x, d_z))        \n",
    "    E[-nc-5:-5, :] = np.random.randn(nc, d_z)\n",
    "    Z = X @ E *snr + np.random.randn(n, d_z)\n",
    "    F = np.random.randn(d_z, d_y)  \n",
    "    Y = Z @ F \n",
    "    return Y, X, E, F\n",
    "\n",
    "\n",
    "\n",
    "y, x, e, f = make_data(nc=5)\n",
    "\n",
    "mat_jr = bagged_jr(x, y)\n",
    "\n",
    "plt.figure(figsize=(12, 6))\n",
    "plt.subplot(1, 3, 1)\n",
    "plt.title(\"JR diagonal\")\n",
    "plt.bar(range(mat_jr.shape[0]), np.diag(mat_jr))\n",
    "\n",
    "plt.subplot(1, 3, 2)\n",
    "plt.title(\"sonquist selection\")\n",
    "z2=sonquist_morgan(np.diag(mat_jr))\n",
    "plt.bar(range(len(z2)), z2)\n",
    "\n",
    "n=x.shape[0]\n",
    "p = n//2\n",
    "x1=x[0:p]\n",
    "x2=x[p:n]\n",
    "y1=y[0:p]\n",
    "y2=y[p:n]\n",
    "xhat=regression(y1, x1).predict(y2)\n",
    "ridge = RidgeCV(fit_intercept=False).fit(x2, xhat)\n",
    "p_values = np.array([coef_pval(ridge, x2, xhat, i) for i in range(xhat.shape[1])])\n",
    "\n",
    "z=np.diag(p_values)\n",
    "plt.subplot(1, 3, 3)\n",
    "plt.title(\"t test selection (95%)\")\n",
    "plt.bar(range(z.shape[0]), (z<0.05))\n",
    "\n",
    "plt.tight_layout()\n",
    "\n",
    "plt.matshow(mat_jr)\n",
    "\n",
    "\n",
    "    "
   ]
  },
  {
   "cell_type": "raw",
   "metadata": {},
   "source": [
    "\n",
    "\n",
    "\n",
    "\n",
    "\n",
    "\n"
   ]
  },
  {
   "cell_type": "code",
   "execution_count": null,
   "metadata": {},
   "outputs": [],
   "source": []
  },
  {
   "cell_type": "code",
   "execution_count": null,
   "metadata": {},
   "outputs": [],
   "source": []
  },
  {
   "cell_type": "code",
   "execution_count": null,
   "metadata": {},
   "outputs": [],
   "source": []
  },
  {
   "cell_type": "code",
   "execution_count": null,
   "metadata": {},
   "outputs": [],
   "source": []
  },
  {
   "cell_type": "code",
   "execution_count": null,
   "metadata": {},
   "outputs": [],
   "source": []
  },
  {
   "cell_type": "code",
   "execution_count": null,
   "metadata": {},
   "outputs": [],
   "source": []
  },
  {
   "cell_type": "code",
   "execution_count": null,
   "metadata": {},
   "outputs": [],
   "source": [
    "\n",
    "\n",
    "\n",
    "\n",
    "\n",
    "\n",
    "\n",
    "\n",
    "\n"
   ]
  },
  {
   "cell_type": "code",
   "execution_count": null,
   "metadata": {},
   "outputs": [],
   "source": []
  }
 ],
 "metadata": {
  "kernelspec": {
   "display_name": "Python 3",
   "language": "python",
   "name": "python3"
  },
  "language_info": {
   "codemirror_mode": {
    "name": "ipython",
    "version": 3
   },
   "file_extension": ".py",
   "mimetype": "text/x-python",
   "name": "python",
   "nbconvert_exporter": "python",
   "pygments_lexer": "ipython3",
   "version": "3.7.1"
  }
 },
 "nbformat": 4,
 "nbformat_minor": 2
}
