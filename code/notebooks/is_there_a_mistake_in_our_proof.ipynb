{
 "cells": [
  {
   "cell_type": "code",
   "execution_count": 1,
   "metadata": {},
   "outputs": [
    {
     "name": "stdout",
     "output_type": "stream",
     "text": [
      "[ 1.26962155 -0.26978071]\n"
     ]
    }
   ],
   "source": [
    "import numpy as np\n",
    "from scipy.linalg import pinv\n",
    "\n",
    "\n",
    "def ols(X, Y):\n",
    "    return pinv(X.T @ X) @ X.T @ Y\n",
    "\n",
    "\n",
    "n = 10000\n",
    "Cx = np.array([[1, -.8], [-.8, 1.]])\n",
    "X = np.random.multivariate_normal(np.zeros(2), Cx, n)\n",
    "source = X @ np.array([3., 1.])\n",
    "noise = np.random.randn(n) * 1e2\n",
    "source = np.c_[source, noise]\n",
    "\n",
    "F = np.array([[1., .5], [-.5, 1.]])\n",
    "Y = source @ F\n",
    "\n",
    "train = range(n//2)\n",
    "test = range(n//2, n)\n",
    "\n",
    "# JRR\n",
    "G = ols(Y[train], X[train])\n",
    "H = ols(X[test], Y[test] @ G)\n",
    "print(np.diag(H))"
   ]
  }
 ],
 "metadata": {
  "kernelspec": {
   "display_name": "Python 3",
   "language": "python",
   "name": "python3"
  },
  "language_info": {
   "codemirror_mode": {
    "name": "ipython",
    "version": 3
   },
   "file_extension": ".py",
   "mimetype": "text/x-python",
   "name": "python",
   "nbconvert_exporter": "python",
   "pygments_lexer": "ipython3",
   "version": "3.6.8"
  },
  "varInspector": {
   "cols": {
    "lenName": 16,
    "lenType": 16,
    "lenVar": 40
   },
   "kernels_config": {
    "python": {
     "delete_cmd_postfix": "",
     "delete_cmd_prefix": "del ",
     "library": "var_list.py",
     "varRefreshCmd": "print(var_dic_list())"
    },
    "r": {
     "delete_cmd_postfix": ") ",
     "delete_cmd_prefix": "rm(",
     "library": "var_list.r",
     "varRefreshCmd": "cat(var_dic_list()) "
    }
   },
   "types_to_exclude": [
    "module",
    "function",
    "builtin_function_or_method",
    "instance",
    "_Feature"
   ],
   "window_display": false
  }
 },
 "nbformat": 4,
 "nbformat_minor": 2
}
