{
 "cells": [
  {
   "cell_type": "code",
   "execution_count": 23,
   "metadata": {},
   "outputs": [
    {
     "name": "stdout",
     "output_type": "stream",
     "text": [
      "[-0.26360939  1.26360939]\n"
     ]
    }
   ],
   "source": [
    "import numpy as np\n",
    "from scipy.linalg import pinv\n",
    "\n",
    "def ols(X, Y):\n",
    "    return pinv(X.T @ X) @ X.T @ Y\n",
    "\n",
    "n = 10000\n",
    "Cx = np.array([[1, -.8], [-.8, 1.]])\n",
    "X = np.random.multivariate_normal(np.zeros(2), Cx, n)\n",
    "E = np.eye(2)\n",
    "N = np.random.randn(n, 2) * 0\n",
    "F = np.array([[1.], [3]])\n",
    "Y = (X @ E + N) @ F\n",
    "\n",
    "# JRR\n",
    "G = ols(Y[::2], X[::2])\n",
    "H = ols(X[1::2], Y[1::2] @ G)\n",
    "print(np.diag(H))"
   ]
  },
  {
   "cell_type": "code",
   "execution_count": 24,
   "metadata": {},
   "outputs": [
    {
     "name": "stdout",
     "output_type": "stream",
     "text": [
      "[1. 1.]\n"
     ]
    }
   ],
   "source": [
    "dim_x = len(X.T)\n",
    "H = np.zeros((dim_x, dim_x))\n",
    "for i in range(dim_x):\n",
    "    not_i = [j for j in range(dim_x) if j != i]\n",
    "    XY = np.c_[X[:, not_i], Y]\n",
    "    G = ols(XY[::2], X[::2, i])\n",
    "    H[i] = ols(X[1::2], XY[1::2] @ G)\n",
    "\n",
    "print(np.diag(H))"
   ]
  },
  {
   "cell_type": "code",
   "execution_count": 26,
   "metadata": {},
   "outputs": [
    {
     "name": "stdout",
     "output_type": "stream",
     "text": [
      "[0.36819531 1.13180469]\n"
     ]
    }
   ],
   "source": [
    "dim_x = len(X.T)\n",
    "H = np.zeros((dim_x, dim_x))\n",
    "for i in range(dim_x):\n",
    "    \n",
    "    not_i = [j for j in range(dim_x) if j != i]\n",
    "    XY = np.c_[X[:, not_i], Y]\n",
    "    \n",
    "    G_xy = ols(XY[::2], X[::2, i])\n",
    "    X_hat_xy = XY[1::2] @ G_xy\n",
    "    \n",
    "    G_y = ols(Y[::2], X[::2, i])\n",
    "    X_hat_y = Y[1::2] @ G_y\n",
    "    \n",
    "    G_x = ols(X[::2][:, not_i], X[::2, i])\n",
    "    X_hat_x = X[1::2][:, not_i] @ G_x\n",
    "    \n",
    "    X_hat = (X_hat_xy + X_hat_y - X_hat_x) / 2.\n",
    "    \n",
    "    H[i] = ols(X[1::2], X_hat)\n",
    "\n",
    "print(np.diag(H))"
   ]
  },
  {
   "cell_type": "code",
   "execution_count": 27,
   "metadata": {},
   "outputs": [
    {
     "name": "stderr",
     "output_type": "stream",
     "text": [
      "100%|██████████| 2/2 [00:00<00:00, 43.47it/s]"
     ]
    },
    {
     "name": "stdout",
     "output_type": "stream",
     "text": [
      "not causal p_value: 0.3010\n"
     ]
    },
    {
     "name": "stderr",
     "output_type": "stream",
     "text": [
      "\n"
     ]
    },
    {
     "data": {
      "image/png": "[encoded data removed]",
      "text/plain": [
       "<Figure size 432x288 with 1 Axes>"
      ]
     },
     "metadata": {},
     "output_type": "display_data"
    }
   ],
   "source": [
    "alphas = np.logspace(-3, 3, 10)\n",
    "X_hat = np.zeros_like(X)\n",
    "for i in trange(dim_x):\n",
    "    not_i = [j for j in range(dim_x) if j != i]\n",
    "    XY = np.c_[X[:, not_i], Y]\n",
    "    # pick optimal alpha for ridge(Y, Xi)\n",
    "    _, best, X_hat[:, [i, ]] = ridge_cv(XY, X[:, [i, ]], alphas)\n",
    "    # apply ridge(XY, Xi, alpha)\n",
    "    X_hat[:, [i, ]] += ridge_cv(Y, X[:, [i, ]], alphas[best])[2]\n",
    "    X_hat[:, [i, ]] -= ridge_cv(X[:, not_i], X[:, [i, ]], alphas[best])[2]\n",
    "E_hat, _, _ = ridge_cv(X, X_hat, alphas)\n",
    "plt.fill_between(range(X.shape[1]), np.diag(E_hat))\n",
    "not_causal = np.diag(E) > 0\n",
    "_, p_value = ttest_1samp(np.diag(E_hat)[not_causal], 0)\n",
    "print('not causal p_value: %.4f' % p_value)"
   ]
  },
  {
   "cell_type": "code",
   "execution_count": 29,
   "metadata": {},
   "outputs": [
    {
     "name": "stdout",
     "output_type": "stream",
     "text": [
      "not causal > 0: p_value=0.0000\n"
     ]
    },
    {
     "data": {
      "image/png": "[encoded data removed]",
      "text/plain": [
       "<Figure size 432x288 with 1 Axes>"
      ]
     },
     "metadata": {},
     "output_type": "display_data"
    }
   ],
   "source": [
    "from tqdm import tqdm\n",
    "from sklearn.linear_model import Ridge, LinearRegression, RidgeCV\n",
    "from sklearn.preprocessing import scale\n",
    "from scipy.linalg import pinv, svd\n",
    "import numpy as np\n",
    "import matplotlib.pyplot as plt\n",
    "from scipy.stats import ttest_1samp\n",
    "from tqdm import trange\n",
    "\n",
    "%matplotlib inline\n",
    "\n",
    "\n",
    "def make_data(seed=0):\n",
    "    np.random.seed(seed)\n",
    "\n",
    "    # make data\n",
    "    n = 1000  # number of samples\n",
    "    dim_x = 100  # dimensionality of X\n",
    "    dim_y = 101\n",
    "\n",
    "    Cx = np.random.randn(dim_x, dim_x)\n",
    "    Cx = Cx.dot(Cx.T) / dim_x  # sym pos-semidefin\n",
    "\n",
    "    X = np.random.multivariate_normal(np.zeros(dim_x), Cx, n)\n",
    "    N = np.random.randn(n, dim_x)\n",
    "    F = np.random.randn(dim_y, dim_x)\n",
    "    E = np.eye(dim_x)\n",
    "    E[:10] = 0\n",
    "    E[30:] = 0\n",
    "\n",
    "    Y = (X @ E + N) @ F.T\n",
    "    Y += np.random.randn(*Y.shape)\n",
    "    return scale(X), scale(Y), E\n",
    "\n",
    "\n",
    "# make data\n",
    "X, Y, E = make_data()\n",
    "n_samples, dim_x = X.shape\n",
    "\n",
    "alphas = np.logspace(-3, 3, 10)\n",
    "ols = LinearRegression(fit_intercept=False)\n",
    "ridge_cv = RidgeCV(alphas=alphas, fit_intercept=False)\n",
    "\n",
    "def ridge_cv(X, Y, alphas, independent_alphas=False):\n",
    "    \"\"\"\n",
    "    Similar to sklearn RidgeCV but\n",
    "    (1) optimize a different alpha for each column of Y\n",
    "    (2) return leave-one-out Y_hat\n",
    "    \"\"\"\n",
    "    if isinstance(alphas, (float, int)):\n",
    "        alphas = np.array([alphas, ], np.float64)\n",
    "    n, n_x = X.shape\n",
    "    n, n_y = Y.shape\n",
    "    # Decompose X\n",
    "    U, s, _ = svd(X, full_matrices=0)\n",
    "    v = s**2\n",
    "    UY = U.T @ Y\n",
    "\n",
    "    # For each alpha, solve leave-one-out error coefs\n",
    "    cv_duals = np.zeros((len(alphas), n, n_y))\n",
    "    cv_errors = np.zeros((len(alphas), n, n_y))\n",
    "    for alpha_idx, alpha in enumerate(alphas):\n",
    "        # Solve\n",
    "        w = ((v + alpha) ** -1) - alpha ** -1\n",
    "        c = U @ np.diag(w) @ UY + alpha ** -1 * Y\n",
    "        cv_duals[alpha_idx] = c\n",
    "\n",
    "        # compute diagonal of the matrix: dot(Q, dot(diag(v_prime), Q^T))\n",
    "        G_diag = (w * U ** 2).sum(axis=-1) + alpha ** -1\n",
    "        error = c / G_diag[:, np.newaxis]\n",
    "        cv_errors[alpha_idx] = error\n",
    "\n",
    "    # identify best alpha for each column of Y independently\n",
    "    if independent_alphas:\n",
    "        best_alphas = (cv_errors ** 2).mean(axis=1).argmin(axis=0)\n",
    "        duals = np.transpose([cv_duals[b, :, i]\n",
    "                              for i, b in enumerate(best_alphas)])\n",
    "        cv_errors = np.transpose([cv_errors[b, :, i]\n",
    "                                  for i, b in enumerate(best_alphas)])\n",
    "    else:\n",
    "        _cv_errors = cv_errors.reshape(len(alphas), -1)\n",
    "        best_alphas = (_cv_errors ** 2).mean(axis=1).argmin(axis=0)\n",
    "        duals = cv_duals[best_alphas]\n",
    "        cv_errors = cv_errors[best_alphas]\n",
    "\n",
    "    coefs = duals.T @ X\n",
    "    Y_hat = Y - cv_errors\n",
    "    return coefs, best_alphas, Y_hat\n",
    "\n",
    "# Standard JRR\n",
    "# H = ridge(Y, X)\n",
    "_, _, X_hat = ridge_cv(Y, X, alphas, True)\n",
    "E_hat, _, _ = ridge_cv(X, X_hat, alphas)\n",
    "jrr = E_hat\n",
    "plt.fill_between(range(X.shape[1]), np.diag(E_hat))\n",
    "\n",
    "not_causal = np.diag(E) == 0\n",
    "_, p_value = ttest_1samp(np.diag(E_hat)[not_causal], 0)\n",
    "print('not causal > 0: p_value=%.4f' % p_value)"
   ]
  },
  {
   "cell_type": "code",
   "execution_count": 30,
   "metadata": {},
   "outputs": [
    {
     "name": "stderr",
     "output_type": "stream",
     "text": [
      "100%|██████████| 100/100 [00:06<00:00, 14.52it/s]\n"
     ]
    },
    {
     "name": "stdout",
     "output_type": "stream",
     "text": [
      "not causal p_value: 0.0000\n"
     ]
    },
    {
     "data": {
      "image/png": "[encoded data removed]",
      "text/plain": [
       "<Figure size 432x288 with 1 Axes>"
      ]
     },
     "metadata": {},
     "output_type": "display_data"
    }
   ],
   "source": [
    "alphas = np.logspace(-3, 3, 10)\n",
    "X_hat = np.zeros_like(X)\n",
    "for i in trange(dim_x):\n",
    "    not_i = [j for j in range(dim_x) if j != i]\n",
    "    XY = np.c_[X[:, not_i], Y]\n",
    "    # pick optimal alpha for ridge(Y, Xi)\n",
    "    _, best, X_hat[:, [i, ]] = ridge_cv(XY, X[:, [i, ]], alphas)\n",
    "    # apply ridge(XY, Xi, alpha)\n",
    "    X_hat[:, [i, ]] += ridge_cv(Y, X[:, [i, ]], alphas[best])[2]\n",
    "    X_hat[:, [i, ]] -= ridge_cv(X[:, not_i], X[:, [i, ]], alphas[best])[2]\n",
    "E_hat, _, _ = ridge_cv(X, X_hat, alphas)\n",
    "plt.fill_between(range(X.shape[1]), np.diag(E_hat))\n",
    "not_causal = np.diag(E) > 0\n",
    "_, p_value = ttest_1samp(np.diag(E_hat)[not_causal], 0)\n",
    "print('not causal p_value: %.4f' % p_value)"
   ]
  },
  {
   "cell_type": "code",
   "execution_count": 31,
   "metadata": {},
   "outputs": [
    {
     "name": "stdout",
     "output_type": "stream",
     "text": [
      "not causal > 0: p_value=0.3840\n"
     ]
    },
    {
     "data": {
      "image/png": "[encoded data removed]",
      "text/plain": [
       "<Figure size 432x288 with 1 Axes>"
      ]
     },
     "metadata": {},
     "output_type": "display_data"
    }
   ],
   "source": [
    "from sklearn.decomposition import PCA\n",
    "pca = PCA('mle').fit(X)\n",
    "Xt = pca.inverse_transform(pca.transform(X))\n",
    "E_hat = pinv(Xt.T @ Xt) @ Xt.T @ X_hat\n",
    "\n",
    "plt.fill_between(range(X.shape[1]), np.diag(E_hat))\n",
    "not_causal = np.diag(E) == 0\n",
    "_, p_value = ttest_1samp(np.diag(E_hat)[not_causal], 0)\n",
    "print('not causal > 0: p_value=%.4f' % p_value)"
   ]
  },
  {
   "cell_type": "code",
   "execution_count": null,
   "metadata": {},
   "outputs": [],
   "source": []
  }
 ],
 "metadata": {
  "kernelspec": {
   "display_name": "Python 3",
   "language": "python",
   "name": "python3"
  },
  "language_info": {
   "codemirror_mode": {
    "name": "ipython",
    "version": 3
   },
   "file_extension": ".py",
   "mimetype": "text/x-python",
   "name": "python",
   "nbconvert_exporter": "python",
   "pygments_lexer": "ipython3",
   "version": "3.6.8"
  },
  "varInspector": {
   "cols": {
    "lenName": 16,
    "lenType": 16,
    "lenVar": 40
   },
   "kernels_config": {
    "python": {
     "delete_cmd_postfix": "",
     "delete_cmd_prefix": "del ",
     "library": "var_list.py",
     "varRefreshCmd": "print(var_dic_list())"
    },
    "r": {
     "delete_cmd_postfix": ") ",
     "delete_cmd_prefix": "rm(",
     "library": "var_list.r",
     "varRefreshCmd": "cat(var_dic_list()) "
    }
   },
   "types_to_exclude": [
    "module",
    "function",
    "builtin_function_or_method",
    "instance",
    "_Feature"
   ],
   "window_display": false
  }
 },
 "nbformat": 4,
 "nbformat_minor": 2
}
