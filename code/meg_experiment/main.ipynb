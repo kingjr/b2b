{
 "cells": [
  {
   "cell_type": "code",
   "execution_count": 1,
   "metadata": {},
   "outputs": [
    {
     "name": "stderr",
     "output_type": "stream",
     "text": [
      "UsageError: Line magic function `%retina` not found.\n"
     ]
    }
   ],
   "source": [
    "%retina"
   ]
  },
  {
   "cell_type": "code",
   "execution_count": 1,
   "metadata": {},
   "outputs": [
    {
     "data": {
      "text/plain": [
       "'/private/home/jeanremi/project/jrr/code/meg_experiment'"
      ]
     },
     "execution_count": 1,
     "metadata": {},
     "output_type": "execute_result"
    }
   ],
   "source": [
    "pwd"
   ]
  },
  {
   "cell_type": "code",
   "execution_count": 2,
   "metadata": {},
   "outputs": [],
   "source": [
    "%matplotlib inline\n",
    "\n",
    "import os.path as op\n",
    "import numpy as np\n",
    "import matplotlib.pyplot as plt\n",
    "from tqdm import trange\n",
    "import pickle\n",
    "import time\n",
    "import submitit\n",
    "from scipy.stats import wilcoxon\n",
    "import seaborn as sns\n",
    "import pandas as pd\n",
    "import mne\n",
    "from copy import deepcopy\n",
    "\n",
    "from sklearn.preprocessing import scale\n",
    "from sklearn.model_selection import KFold\n",
    "from sklearn.preprocessing import StandardScaler\n",
    "from sklearn.model_selection import GridSearchCV\n",
    "from scipy.stats import ttest_1samp, wilcoxon\n",
    "import spacy\n",
    "\n",
    "from models import Forward, Backward, B2B, CCA, PLS, RegCCA\n",
    "from common import log_files, data_path\n",
    "from base import fetch_data"
   ]
  },
  {
   "cell_type": "code",
   "execution_count": 63,
   "metadata": {},
   "outputs": [],
   "source": [
    "def run(subject, model_name, overwrite=False, \n",
    "        folder='jrr_iclr', refit_knockout=False,\n",
    "        word_emb=False):\n",
    "    \"\"\"Loop Granger score for each time sample independently\"\"\"\n",
    "    start = time.time()\n",
    "    print(start)\n",
    "    \n",
    "    # Paths\n",
    "    preproc_path = op.join(data_path, '..', folder, \n",
    "                           '%s-preproc.pkl' % subject.subject)\n",
    "    save_path = op.join(data_path, '..', folder, \n",
    "                        '%s-%s%s%s.pkl' % (subject.subject, model_name, \n",
    "                                         ['', '_refit'][refit_knockout],\n",
    "                                         ['', '_wordemb'][word_emb]))\n",
    "    \n",
    "    # Don't compute if already exists\n",
    "    if op.isfile(save_path) and not overwrite:\n",
    "        with open(save_path, 'rb') as f:\n",
    "            return pickle.load(f)\n",
    "    \n",
    "    # Load and preprocess data\n",
    "    if op.isfile(preproc_path):\n",
    "        with open(preproc_path, 'rb') as f:\n",
    "            meg, times, features, names, words = pickle.load(f)\n",
    "    else:\n",
    "        meg, times, features, names, words = fetch_data(subject)\n",
    "        with open(preproc_path, 'wb') as f:\n",
    "            pickle.dump([meg, times, features, names, words], f)\n",
    "    \n",
    "    cv = KFold(5, shuffle=True)    \n",
    "    n_features = features.shape[1]\n",
    "    _, n_channels, n_times = meg.shape\n",
    "    \n",
    "    if word_emb:\n",
    "        nlp = spacy.load('nl_core_news_sm')\n",
    "        embedding = scale([w.vector[:10] for w in map(nlp, words.values)])\n",
    "        features = np.c_[features, embedding]\n",
    "        n_features = features.shape[1]\n",
    "    \n",
    "    # Prepare model\n",
    "    max_comp = min(meg.shape[1], n_features)\n",
    "    comp_sweep = np.unique(np.floor(np.linspace(1, max_comp, 20))).astype(int)\n",
    "    alpha_sweep = np.logspace(-4, 4, 20)\n",
    "\n",
    "    models = dict(B2B=B2B(alpha_sweep),\n",
    "                  B2B_ensemble=B2B(alpha_sweep, ensemble=20),\n",
    "                  Backward=Backward(alpha_sweep),\n",
    "                  Forward=Forward(alpha_sweep),\n",
    "                  \n",
    "                  CCA=GridSearchCV(CCA(), dict(n_components=comp_sweep), cv=5),\n",
    "                  RegCCA=GridSearchCV(RegCCA(), dict(alpha=alpha_sweep), cv=5),\n",
    "                  PLS=GridSearchCV(PLS(), dict(n_components=comp_sweep), cv=5),\n",
    "                  \n",
    "                  CCA1=CCA(1),\n",
    "                  CCA2=CCA(2),\n",
    "                  CCA3=CCA(3),\n",
    "                  CCA4=CCA(4),\n",
    "                  CCA6=CCA(6),\n",
    "                  \n",
    "                  PLS1=PLS(1),\n",
    "                  PLS2=PLS(2),\n",
    "                  PLS3=PLS(3),\n",
    "                  PLS4=PLS(4),\n",
    "                  PLS6=PLS(6),\n",
    "                 )\n",
    "    \n",
    "    print(subject.subject, model_name)\n",
    "\n",
    "\n",
    "    H_r = np.zeros((cv.n_splits, n_times, n_features))\n",
    "    K_r = np.zeros((cv.n_splits, n_times, n_features))\n",
    "\n",
    "    # Loop across times\n",
    "    scoring = 'r'\n",
    "    \n",
    "    for t in trange(n_times):\n",
    "        for split, (train, test) in enumerate(cv.split(features)):\n",
    "            # Preprocess\n",
    "            X = StandardScaler().fit(features[train]).transform(features)\n",
    "            Y = StandardScaler().fit(meg[train, :, t]).transform(meg[:, :, t])\n",
    "            \n",
    "            # Fit model\n",
    "            model = models[model_name]\n",
    "            model.fit(X[train], Y[train])\n",
    "            \n",
    "            # Extract best model in case of grid search\n",
    "            if isinstance(model, GridSearchCV):\n",
    "                model = model.best_estimator_\n",
    "            \n",
    "            # Compute standard scores\n",
    "            H = model.score(X[test], Y[test], \n",
    "                            scoring=scoring, \n",
    "                            multioutput='raw')\n",
    "            \n",
    "            # Aggregate score across predicted dimensions\n",
    "\n",
    "            if 'B2B' not in model_name:\n",
    "                H = [H.mean(),] * n_features\n",
    "            assert len(H) == n_features\n",
    "\n",
    "            H_r[split, t] = H\n",
    "            \n",
    "            # Compute knock out scores\n",
    "            for f in range(n_features):\n",
    "                \n",
    "                # Setup knockout\n",
    "                K = np.eye(n_features)\n",
    "                K[f] = 0\n",
    "                \n",
    "                # refit the model\n",
    "                test_model = model\n",
    "                if refit_knockout:\n",
    "                    test_model = deepcopy(model)\n",
    "                    if 'B2B' in model_name:\n",
    "                        test_model.fit_H(X[train] @ K, Y[train])\n",
    "                    else:\n",
    "                        test_model.fit(X[train] @ K, Y[train])\n",
    "                \n",
    "                # Score\n",
    "                R = test_model.score(X[test] @ K, Y[test],\n",
    "                                     scoring=scoring,\n",
    "                                     multioutput='raw')\n",
    "                \n",
    "                # Aggregate predicted dimensions\n",
    "                R = R[f] if 'B2B' in model_name else R.mean()\n",
    "                \n",
    "                K_r[split, t, f] = R\n",
    "\n",
    "    # Mean scores across splits\n",
    "    H_r = H_r.mean(0)\n",
    "    K_r = K_r.mean(0)\n",
    "    \n",
    "    # Save\n",
    "    print('save')\n",
    "    with open(save_path, 'wb') as f:\n",
    "        pickle.dump([H_r, K_r], f)\n",
    "\n",
    "    print(time.time() - start)\n",
    "    \n",
    "    return H_r, K_r"
   ]
  },
  {
   "cell_type": "code",
   "execution_count": 108,
   "metadata": {},
   "outputs": [],
   "source": [
    "\n",
    "models = dict(B2B=B2B(alpha_sweep),\n",
    "              B2B_ensemble=B2B(alpha_sweep, ensemble=20),\n",
    "              Backward=Backward(alpha_sweep),\n",
    "              Forward=Forward(alpha_sweep),\n",
    "\n",
    "              CCA=GridSearchCV(CCA(), dict(n_components=comp_sweep), cv=5),\n",
    "              RegCCA=GridSearchCV(RegCCA(), dict(alpha=alpha_sweep), cv=5),\n",
    "              PLS=GridSearchCV(PLS(), dict(n_components=comp_sweep), cv=5),\n",
    "             )"
   ]
  },
  {
   "cell_type": "code",
   "execution_count": null,
   "metadata": {},
   "outputs": [],
   "source": [
    "subject=log_files.iloc[0]\n",
    "model_name='CCA'\n",
    "overwrite=False\n",
    "folder='jrr_iclr'\n",
    "refit_knockout=False\n",
    "word_emb=False\n",
    "\n",
    "# Paths\n",
    "preproc_path = op.join(data_path, '..', folder, \n",
    "                       '%s-preproc.pkl' % subject.subject)\n",
    "save_path = op.join(data_path, '..', folder, \n",
    "                    '%s-%s%s%s.pkl' % (subject.subject, model_name, \n",
    "                                     ['', '_refit'][refit_knockout],\n",
    "                                     ['', '_wordemb'][word_emb]))\n",
    "\n",
    "\n",
    "# Load and preprocess data\n",
    "if op.isfile(preproc_path):\n",
    "    with open(preproc_path, 'rb') as f:\n",
    "        meg, times, features, names, words = pickle.load(f)\n",
    "else:\n",
    "    meg, times, features, names, words = fetch_data(subject)\n",
    "    with open(preproc_path, 'wb') as f:\n",
    "        pickle.dump([meg, times, features, names, words], f)\n",
    "\n",
    "cv = KFold(5, shuffle=True)    \n",
    "n_features = features.shape[1]\n",
    "_, n_channels, n_times = meg.shape\n",
    "\n",
    "if word_emb:\n",
    "    nlp = spacy.load('nl_core_news_sm')\n",
    "    embedding = scale([w.vector[:10] for w in map(nlp, words.values)])\n",
    "    features = np.c_[features, embedding]\n",
    "    n_features = features.shape[1]\n",
    "\n",
    "# Prepare model\n",
    "max_comp = min(meg.shape[1], n_features)\n",
    "comp_sweep = np.unique(np.floor(np.linspace(1, max_comp, 20))).astype(int)\n",
    "alpha_sweep = np.logspace(-4, 4, 20)\n",
    "\n",
    "\n",
    "model = GridSearchCV(CCA(), dict(n_components=comp_sweep), cv=5)\n",
    "model = B2B(alpha_sweep)\n",
    "\n",
    "H_r = np.zeros((cv.n_splits, n_times, n_features))\n",
    "K_r = np.zeros((cv.n_splits, n_times, n_features))\n",
    "\n",
    "# Loop across times\n",
    "scoring = 'r'"
   ]
  },
  {
   "cell_type": "code",
   "execution_count": 117,
   "metadata": {},
   "outputs": [
    {
     "ename": "TypeError",
     "evalue": "score() got an unexpected keyword argument 'scoring'",
     "output_type": "error",
     "traceback": [
      "\u001b[0;31m---------------------------------------------------------------------------\u001b[0m",
      "\u001b[0;31mTypeError\u001b[0m                                 Traceback (most recent call last)",
      "\u001b[0;32m<ipython-input-117-1a564c2fcbf7>\u001b[0m in \u001b[0;36m<module>\u001b[0;34m\u001b[0m\n\u001b[1;32m     17\u001b[0m     H = model.score(X[test], Y[test], \n\u001b[1;32m     18\u001b[0m                     \u001b[0mscoring\u001b[0m\u001b[0;34m=\u001b[0m\u001b[0mscoring\u001b[0m\u001b[0;34m,\u001b[0m\u001b[0;34m\u001b[0m\u001b[0;34m\u001b[0m\u001b[0m\n\u001b[0;32m---> 19\u001b[0;31m                     multioutput='raw')\n\u001b[0m\u001b[1;32m     20\u001b[0m \u001b[0;34m\u001b[0m\u001b[0m\n\u001b[1;32m     21\u001b[0m     \u001b[0;31m# Aggregate score across predicted dimensions\u001b[0m\u001b[0;34m\u001b[0m\u001b[0;34m\u001b[0m\u001b[0;34m\u001b[0m\u001b[0m\n",
      "\u001b[0;31mTypeError\u001b[0m: score() got an unexpected keyword argument 'scoring'"
     ]
    }
   ],
   "source": [
    "t = 16\n",
    "t=31\n",
    "for split, (train, test) in enumerate(cv.split(features)):\n",
    "    # Preprocess\n",
    "    X = StandardScaler().fit(features[train]).transform(features)\n",
    "    Y = StandardScaler().fit(meg[train, :, t]).transform(meg[:, :, t])\n",
    "\n",
    "    # Fit model\n",
    "    model = models[model_name]\n",
    "    model.fit(X[train], Y[train])\n",
    "\n",
    "    # Extract best model in case of grid search\n",
    "    if isinstance(model, GridSearchCV):\n",
    "        model = model.best_estimator_\n",
    "\n",
    "    # Compute standard scores\n",
    "    H = model.score(X[test], Y[test], \n",
    "                    scoring=scoring, \n",
    "                    multioutput='raw')\n",
    "\n",
    "    # Aggregate score across predicted dimensions\n",
    "\n",
    "    if 'B2B' not in model_name:\n",
    "        H = [H.mean(),] * n_features\n",
    "    assert len(H) == n_features\n",
    "\n",
    "    H_r[split, t] = H\n",
    "\n",
    "    # Compute knock out scores\n",
    "    for f in range(n_features):\n",
    "\n",
    "        # Setup knockout\n",
    "        K = np.eye(n_features)\n",
    "        K[f] = 0\n",
    "\n",
    "        # refit the model\n",
    "        test_model = model\n",
    "\n",
    "        # Score\n",
    "        R = test_model.score(X[test] @ K, Y[test],\n",
    "                             scoring=scoring,\n",
    "                             multioutput='raw')\n",
    "\n",
    "        # Aggregate predicted dimensions\n",
    "        R = R[f] if 'B2B' in model_name else R.mean()\n",
    "\n",
    "        K_r[split, t, f] = R\n",
    "        0/0"
   ]
  },
  {
   "cell_type": "code",
   "execution_count": 123,
   "metadata": {},
   "outputs": [],
   "source": [
    "CCA?"
   ]
  },
  {
   "cell_type": "code",
   "execution_count": 122,
   "metadata": {},
   "outputs": [
    {
     "name": "stdout",
     "output_type": "stream",
     "text": [
      "[0.005947733914491493, 0.04111036749275354, -0.001082497145223904, 0.0036142004076334944]\n",
      "[-0.15657389097876365, -0.1214112574005016, -0.16360412203847904, -0.15890742448562165]\n",
      "[-0.2191674836247654, -0.18400485004650335, -0.2261977146844808, -0.2215010171316234]\n"
     ]
    }
   ],
   "source": [
    "t=31\n",
    "Y = StandardScaler().fit(meg[train, :, t]).transform(meg[:, :, t])\n",
    "for m in (CCA(1), CCA(2), CCA(3)):\n",
    "    m.fit(X[train], Y[train])\n",
    "    H = m.score(X[test], Y[test])\n",
    "    \n",
    "    scores = list()\n",
    "    for f in range(n_features):\n",
    "\n",
    "        # Setup knockout\n",
    "        K = np.eye(n_features)\n",
    "        K[f] = 0\n",
    "\n",
    "\n",
    "        # Score\n",
    "        R = model.score(X[test] @ K, Y[test])\n",
    "        scores.append(H-R)\n",
    "    print(scores)"
   ]
  },
  {
   "cell_type": "code",
   "execution_count": 118,
   "metadata": {},
   "outputs": [
    {
     "data": {
      "text/plain": [
       "CCA(multioutput='uniform_average', n_components=1, scoring='r', tol=1e-15)"
      ]
     },
     "execution_count": 118,
     "metadata": {},
     "output_type": "execute_result"
    }
   ],
   "source": [
    "model.best_estimator_"
   ]
  },
  {
   "cell_type": "code",
   "execution_count": null,
   "metadata": {},
   "outputs": [],
   "source": [
    "folder = 'jrr_iclr'\n",
    "preproc_path = op.join(data_path, '..', folder,\n",
    "                       '%s-preproc.pkl' % log_files.iloc[0].subject)\n",
    "\n",
    "with open(preproc_path, 'rb') as f:\n",
    "    _, times, features, names, _ = pickle.load(f)"
   ]
  },
  {
   "cell_type": "code",
   "execution_count": 77,
   "metadata": {
    "scrolled": true
   },
   "outputs": [
    {
     "name": "stderr",
     "output_type": "stream",
     "text": [
      "\n",
      "\n",
      "\n",
      "  0%|          | 0/100 [00:00<?, ?it/s]\u001b[A\u001b[A\u001b[A\n",
      "\n",
      "\n",
      " 96%|█████████▌| 96/100 [00:00<00:00, 951.70it/s]\u001b[A\u001b[A\u001b[A\n",
      "\n",
      "\n",
      "100%|██████████| 100/100 [00:00<00:00, 935.54it/s]\u001b[A\u001b[A\u001b[A"
     ]
    },
    {
     "name": "stdout",
     "output_type": "stream",
     "text": [
      "500\n"
     ]
    }
   ],
   "source": [
    "log_path = op.join(data_path, '..', 'jrr_iclr', 'log')\n",
    "executor = submitit.AutoExecutor(folder=log_path)\n",
    "executor.update_parameters(timeout_min=4*60, \n",
    "                           partition='learnfair,uninterrupted,scavenge',\n",
    "                           constraint='pascal', cpus_per_task=10)\n",
    "\n",
    "jobs3 = list()\n",
    "models = (\n",
    "    'B2B', \n",
    "    'Forward',\n",
    "    'CCA',\n",
    "    'PLS',\n",
    "    'RegCCA',\n",
    ")\n",
    "#models = ('B2B_ensemble',)\n",
    "folder = 'jrr_iclr'\n",
    "refit_knockout = True\n",
    "word_emb = False\n",
    "save_path = op.join(data_path, '..', folder, '%s-%s%s%s.pkl') \n",
    "\n",
    "for subject in trange(len(log_files)):\n",
    "    for model_name in models:\n",
    "        subject_info = log_files.iloc[subject]\n",
    "        if op.isfile(save_path % (subject_info.subject, model_name, \n",
    "                                  ['', '_refit'][refit_knockout],\n",
    "                                  ['', '_wordemb'][word_emb])):\n",
    "            continue\n",
    "        jobs3.append([subject_info, model_name, True, folder, refit_knockout, word_emb])\n",
    "print(len(jobs3))\n",
    "jobs3 = executor.map_array(run, *zip(*jobs3))"
   ]
  },
  {
   "cell_type": "code",
   "execution_count": 6,
   "metadata": {},
   "outputs": [],
   "source": [
    "times = np.linspace(-.100, 1., 67)"
   ]
  },
  {
   "cell_type": "code",
   "execution_count": 105,
   "metadata": {},
   "outputs": [],
   "source": [
    "def get_results(model_name, folder='jrr_iclr', refit_knockout=False, word_emb=False):\n",
    "    \n",
    "    H_r, K_r = list(), list()\n",
    "    for subject in range(len(log_files)):\n",
    "        subject = log_files.loc[subject, 'subject']\n",
    "        save_path = op.join(data_path, '..', folder, \n",
    "                            '%s-%s%s%s.pkl' % (subject, model_name, \n",
    "                                           ['', '_refit'][refit_knockout],\n",
    "                                           ['', '_wordemb'][word_emb]))\n",
    "        if op.isfile(save_path):\n",
    "            with open(save_path, 'rb') as f:\n",
    "                hr, kr = pickle.load(f)\n",
    "            \n",
    "            if hr.shape[1] != 4 or len(hr.shape) != 2:\n",
    "                continue\n",
    "            \n",
    "            H_r.append(hr)\n",
    "            K_r.append(kr)\n",
    "\n",
    "    H_r, K_r = np.array(H_r), np.array(K_r)\n",
    "    return H_r, K_r"
   ]
  },
  {
   "cell_type": "code",
   "execution_count": 106,
   "metadata": {},
   "outputs": [
    {
     "name": "stdout",
     "output_type": "stream",
     "text": [
      "93\n",
      "93\n",
      "93\n",
      "92\n",
      "93\n"
     ]
    }
   ],
   "source": [
    "models = [\n",
    "          #'Backward', \n",
    "          'Forward',\n",
    "          'PLS',\n",
    "          'CCA',\n",
    "          'RegCCA',\n",
    "          'B2B', \n",
    "]\n",
    "features = ('Word Length', 'Word Frequency', 'Word Function', 'Dummy Variable')\n",
    "\n",
    "data = list()\n",
    "for model_name in models:\n",
    "    H_r, K_r = get_results(model_name, refit_knockout=False)\n",
    "    print(len(H_r))\n",
    "\n",
    "    scores = H_r - K_r\n",
    "    for effect_idx, effect in enumerate(features):\n",
    "        for subject, score in enumerate(scores):\n",
    "            for t, (time, r) in enumerate(zip(times, score)):\n",
    "                data.append(dict(subject=subject, effect=effect, model=model_name, \n",
    "                                 r=scores[subject, t, effect_idx], time=int(time*1e3)))\n",
    "data = pd.DataFrame(data)"
   ]
  },
  {
   "cell_type": "code",
   "execution_count": 102,
   "metadata": {},
   "outputs": [
    {
     "data": {
      "text/plain": [
       "<matplotlib.lines.Line2D at 0x7fdf224bb518>"
      ]
     },
     "execution_count": 102,
     "metadata": {},
     "output_type": "execute_result"
    },
    {
     "data": {
      "image/png": "[encoded data removed]",
      "text/plain": [
       "<Figure size 432x288 with 1 Axes>"
      ]
     },
     "metadata": {
      "needs_background": "light"
     },
     "output_type": "display_data"
    }
   ],
   "source": [
    "sns.barplot(x='effect', y='r', \n",
    "            hue='model', data=data.query('time>0'))\n",
    "plt.axhline(0, color='gray', ls=':', zorder=-1)\n",
    "#plt.ylim(-.01, .05)"
   ]
  },
  {
   "cell_type": "code",
   "execution_count": 164,
   "metadata": {},
   "outputs": [
    {
     "data": {
      "text/plain": [
       "<matplotlib.lines.Line2D at 0x7f387c494be0>"
      ]
     },
     "execution_count": 164,
     "metadata": {},
     "output_type": "execute_result"
    },
    {
     "data": {
      "image/png": "[encoded data removed]",
      "text/plain": [
       "<Figure size 432x288 with 1 Axes>"
      ]
     },
     "metadata": {
      "needs_background": "light"
     },
     "output_type": "display_data"
    }
   ],
   "source": [
    "sns.barplot(x='effect', y='r', \n",
    "            hue='model', data=data.query('time>0'))\n",
    "plt.axhline(0, color='gray', ls=':', zorder=-1)\n",
    "#plt.ylim(-.01, .05)"
   ]
  },
  {
   "cell_type": "code",
   "execution_count": 85,
   "metadata": {
    "scrolled": false
   },
   "outputs": [
    {
     "name": "stderr",
     "output_type": "stream",
     "text": [
      "/private/home/jeanremi/.conda/envs/mous/lib/python3.6/site-packages/ipykernel_launcher.py:27: FutureWarning: Interpreting tuple 'by' as a list of keys, rather than a single key. Use 'by=[...]' instead of 'by=(...)'. In the future, a tuple will always mean a single key.\n",
      "No handles with labels found to put in legend.\n",
      "No handles with labels found to put in legend.\n",
      "No handles with labels found to put in legend.\n",
      "No handles with labels found to put in legend.\n"
     ]
    },
    {
     "data": {
      "image/png": "[encoded data removed]",
      "text/plain": [
       "<Figure size 360x576 with 8 Axes>"
      ]
     },
     "metadata": {
      "needs_background": "light"
     },
     "output_type": "display_data"
    }
   ],
   "source": [
    "fig, axes = plt.subplots(4, 2, figsize=[5, 8])\n",
    "\n",
    "for ax, effect in zip(axes[:, 0], features):\n",
    "    sns.lineplot(x='time', y='r', hue='model', \n",
    "                 data=data.query('effect==@effect'),\n",
    "                 ax=ax, legend=False)\n",
    "    ax.axhline(0, color='gray', ls=':')\n",
    "\n",
    "    ax.set_ylabel('ΔR').set_rotation(0)\n",
    "    ax.axvline(0, color='k', lw=.5)\n",
    "    ax.spines['right'].set_visible(False)\n",
    "    ax.spines['top'].set_visible(False)\n",
    "    ax.set_title(effect)\n",
    "\n",
    "    ylim = 0.06 if effect != 'Word Length' else 0.15\n",
    "    ax.set_yticks(np.arange(0, ylim+.001, .01))\n",
    "    ax.set_ylim(-.01, ylim)\n",
    "    ax.set_yticklabels(['%.2f' % f if f in (0., ylim) else ''\n",
    "                           for f in np.arange(0, ylim+.001, .01)])\n",
    "    ax.set_xlim(-100, 1000)\n",
    "    ax.axhline(0, color='k', ls=':', zorder=-10, lw=.5)\n",
    "    ax.set_xlabel('')\n",
    "ax.set_xlabel('Time (ms)')\n",
    "\n",
    "for feature, ax in zip(features, axes[:, 1]):\n",
    "    d = data.query('effect==@feature and time>0 and time <1000')\n",
    "    d = d.groupby(('subject', 'model'), as_index=False).mean()\n",
    "    sns.stripplot(x='model', y='r', dodge=True, order=models,\n",
    "                  s=2, jitter=.3, data=d, ax=ax)\n",
    "    # legend clean up\n",
    "    ax.axhline(0,color='k', ls=':')\n",
    "    ax.legend().set_visible(False)\n",
    "    ylim = 0.035 if feature != 'Word Length' else 0.07\n",
    "    ax.set_ylim(-.01, ylim)\n",
    "    ax.set_yticks(np.arange(0, ylim+.001, .01))\n",
    "    ax.set_yticklabels(['%.2f' % f if f in (0., ylim) else '' \n",
    "                        for f in np.arange(0, ylim+.001, .01)])\n",
    "    ax.set_ylabel('ΔR').set_rotation(0)\n",
    "    ax.set_xticks([])\n",
    "    ax.set_xlabel('')\n",
    "    \n",
    "    ax.spines['right'].set_visible(False)\n",
    "    ax.spines['top'].set_visible(False)\n",
    "    ax.spines['bottom'].set_visible(False)\n",
    "    \n",
    "    # statistical comparison\n",
    "    if feature == 'Dummy Variable':\n",
    "        continue\n",
    "\n",
    "    space = np.ptp(ax.get_ylim()) / 30\n",
    "    k = 0\n",
    "    for idx, m1 in enumerate(models):\n",
    "\n",
    "        r = list()\n",
    "        _, p = wilcoxon(d.query('model == @m1').r.values)\n",
    "        # print('%s: %s: %.4f' % (feature, m1, p))\n",
    "        \n",
    "        for jdx, m2 in enumerate(models):\n",
    "            if m1 == m2:\n",
    "                continue\n",
    "            r = list()\n",
    "            d.query('model==@m1').r.values\n",
    "            for _, subject in d.query('model in [@m1, @m2]').groupby('subject'):\n",
    "                if len(subject)==2:\n",
    "                    r.append([subject.query('model==@m1').r.values[0],\n",
    "                              subject.query('model==@m2').r.values[0]])\n",
    "            r1, r2 = np.transpose(r)\n",
    "            u, p = wilcoxon(r1, r2)\n",
    "            if m1 == 'B2B' and feature != 'dummy':\n",
    "                #print('%s: b2b versus %s: %.4f' % (feature, m2, p))\n",
    "                pass\n",
    "            if p < .05 and 'B2B' == m2:\n",
    "                k += 1\n",
    "                y = .8 * ylim + k * space\n",
    "                if np.median(r1) > np.median(r2):\n",
    "                    color = 'C%i' % idx\n",
    "                else:\n",
    "                    color = 'C%i' % jdx\n",
    "                    \n",
    "                ax.plot(np.linspace(0, 4, 5)[[idx, jdx]], \n",
    "                        [y, y], color=color, lw=1.)\n",
    "    ax.text(2, y, '*', color='C4')\n",
    "ax.set_xlabel('Model')\n",
    "\n",
    "# legend\n",
    "lines = [ax.plot([0, 0], [0,0], color='C%i' % i)[0] for i in range(4)]\n",
    "lines = [ax.plot([0, 0], [0,0], color='w')[0]] + lines\n",
    "leg = plt.figlegend(lines, ['',] + models, loc='upper center', \n",
    "                    ncol=6, labelspacing=0., fontsize='x-large',\n",
    "                    handlelength=0, frameon=False,\n",
    "                    bbox_to_anchor=(0.5,1.025))\n",
    "\n",
    "for line, text in zip(leg.get_lines(), leg.get_texts()):\n",
    "    text.set_color(line.get_color())\n",
    "\n",
    "fig.tight_layout()"
   ]
  },
  {
   "cell_type": "code",
   "execution_count": 78,
   "metadata": {},
   "outputs": [
    {
     "name": "stderr",
     "output_type": "stream",
     "text": [
      "\n",
      "\n",
      "\n",
      "  0%|          | 0/100 [00:00<?, ?it/s]\u001b[A\u001b[A\u001b[A\n",
      "\n",
      "\n",
      " 69%|██████▉   | 69/100 [00:00<00:00, 685.04it/s]\u001b[A\u001b[A\u001b[A\n",
      "\n",
      "\n",
      "100%|██████████| 100/100 [00:00<00:00, 738.47it/s]\u001b[A\u001b[A\u001b[A"
     ]
    },
    {
     "name": "stdout",
     "output_type": "stream",
     "text": [
      "500\n"
     ]
    }
   ],
   "source": [
    "log_path = op.join(data_path, '..', 'jrr_iclr', 'log')\n",
    "executor = submitit.AutoExecutor(folder=log_path)\n",
    "executor.update_parameters(timeout_min=4*60, \n",
    "                           partition='learnfair,uninterrupted,scavenge',\n",
    "                           constraint='pascal', cpus_per_task=10)\n",
    "\n",
    "jobs4 = list()\n",
    "models = (\n",
    "    'B2B',\n",
    "    'Forward',\n",
    "    'CCA',\n",
    "    'PLS',\n",
    "    'RegCCA',\n",
    ")\n",
    "#models = ('B2B_ensemble',)\n",
    "folder = 'jrr_iclr'\n",
    "refit_knockout = False\n",
    "word_emb = True\n",
    "save_path = op.join(data_path, '..', folder, '%s-%s%s%s.pkl') \n",
    "\n",
    "for subject in trange(len(log_files)):\n",
    "    for model_name in models:\n",
    "        subject_info = log_files.iloc[subject]\n",
    "        if op.isfile(save_path % (subject_info.subject, model_name, \n",
    "                                  ['', '_refit'][refit_knockout],\n",
    "                                  ['', '_wordemb'][word_emb])):\n",
    "            continue\n",
    "        jobs4.append([subject_info, model_name, True, folder, refit_knockout, word_emb])\n",
    "print(len(jobs3))\n",
    "jobs4 = executor.map_array(run, *zip(*jobs4))"
   ]
  },
  {
   "cell_type": "code",
   "execution_count": 81,
   "metadata": {},
   "outputs": [
    {
     "data": {
      "text/plain": [
       "SlurmJob<job_id=19929102_0, task_id=0, state=\"COMPLETED\">"
      ]
     },
     "execution_count": 81,
     "metadata": {},
     "output_type": "execute_result"
    }
   ],
   "source": [
    "jobs4[0]"
   ]
  }
 ],
 "metadata": {
  "kernelspec": {
   "display_name": "Python 3",
   "language": "python",
   "name": "python3"
  },
  "language_info": {
   "codemirror_mode": {
    "name": "ipython",
    "version": 3
   },
   "file_extension": ".py",
   "mimetype": "text/x-python",
   "name": "python",
   "nbconvert_exporter": "python",
   "pygments_lexer": "ipython3",
   "version": "3.6.8"
  }
 },
 "nbformat": 4,
 "nbformat_minor": 2
}
