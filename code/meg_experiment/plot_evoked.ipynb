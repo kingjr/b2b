{
 "cells": [
  {
   "cell_type": "code",
   "execution_count": 1,
   "metadata": {},
   "outputs": [
    {
     "data": {
      "text/plain": [
       "'/private/home/jeanremi/project/jrr/code/meg_experiment'"
      ]
     },
     "execution_count": 1,
     "metadata": {},
     "output_type": "execute_result"
    }
   ],
   "source": [
    "pwd"
   ]
  },
  {
   "cell_type": "code",
   "execution_count": 2,
   "metadata": {},
   "outputs": [],
   "source": [
    "%matplotlib inline\n",
    "\n",
    "import os.path as op\n",
    "import numpy as np\n",
    "import matplotlib.pyplot as plt\n",
    "from tqdm import trange\n",
    "import submitit\n",
    "import mne\n",
    "from common import log_files, data_path, read_log, get_log_times"
   ]
  },
  {
   "cell_type": "code",
   "execution_count": 3,
   "metadata": {},
   "outputs": [],
   "source": [
    "log_files = log_files.query('task==\"visual\"')"
   ]
  },
  {
   "cell_type": "code",
   "execution_count": 4,
   "metadata": {},
   "outputs": [],
   "source": [
    "def get_evoked(subject):\n",
    "    log_file = log_files.iloc[subject]\n",
    "    # file name\n",
    "    raw_fname = op.join(data_path, log_file['meg_file'])\n",
    "    log_fname = op.join(data_path, log_file['log_file'])\n",
    "\n",
    "    # preprocess meg data\n",
    "    raw = mne.io.read_raw_ctf(raw_fname, preload=True, verbose=False)\n",
    "    raw.filter(.1, 40., verbose=False)\n",
    "    events = mne.find_events(raw, verbose=False)\n",
    "\n",
    "    # preprocess annotations\n",
    "    log = read_log(log_fname)\n",
    "\n",
    "    # link meg and annotations\n",
    "    log = get_log_times(log, events,  raw.info['sfreq'])\n",
    "\n",
    "    # Segment into word-locked epochs\n",
    "    log_events = np.c_[log.meg_sample, np.ones((len(log), 2), int)]\n",
    "    _, idx = np.unique(log_events[:, 0], return_index=True)\n",
    "    picks = mne.pick_types(raw.info, meg=True, eeg=False,\n",
    "                           stim=False, eog=False, ecg=False)\n",
    "    epochs = mne.Epochs(\n",
    "        raw,\n",
    "        events=log_events[idx], metadata=log.iloc[idx],\n",
    "        tmin=-.100, tmax=1., decim=20,\n",
    "        picks=picks, preload=True,\n",
    "        verbose=False\n",
    "    )\n",
    "    epochs = epochs['condition==\"word\"']\n",
    "    meg = np.median(epochs.get_data(), axis=0)\n",
    "    \n",
    "    evo = mne.EvokedArray(meg, epochs.info, tmin=-.100)\n",
    "    evo = remap(evo)\n",
    "    \n",
    "    return evo"
   ]
  },
  {
   "cell_type": "code",
   "execution_count": 5,
   "metadata": {},
   "outputs": [],
   "source": [
    "def remap(evo):\n",
    "    from mne import EvokedArray\n",
    "    from mne.datasets import sample, spm_face\n",
    "    from mne.channels.interpolation import _map_meg_channels\n",
    "    from mne import io\n",
    "\n",
    "    # CTF\n",
    "    evoked_ctf = evo\n",
    "\n",
    "    # Elekta\n",
    "    data_path = sample.data_path() + '/MEG/sample/sample_audvis_filt-0-40_raw'\n",
    "    raw = mne.io.read_raw_fif(data_path + '.fif')\n",
    "    events = mne.read_events(data_path + '-eve.fif')\n",
    "    epochs_elk = mne.Epochs(raw, events, {'AudL': 1, 'AudR': 2}, -0.050, 0.400,\n",
    "                            preload=True, decim=2, verbose=False)\n",
    "    epochs_elk.pick_types(meg=True, eeg=False, exclude=list())\n",
    "    evoked_elk = epochs_elk.average()\n",
    "\n",
    "    # Map\n",
    "    mapping = _map_meg_channels(evoked_ctf.info, evoked_elk.info, mode='accurate')\n",
    "    new = mapping.dot(evoked_ctf.data)\n",
    "    evoked_new = EvokedArray(new, evoked_elk.info, evoked_ctf.times[0])\n",
    "    return evoked_new"
   ]
  },
  {
   "cell_type": "code",
   "execution_count": null,
   "metadata": {},
   "outputs": [],
   "source": [
    "log_path = op.join(data_path, '..', 'jrr', 'log')\n",
    "executor = submitit.AutoExecutor(folder=log_path)\n",
    "executor.update_parameters(timeout_min=10, \n",
    "                           partition='learnfair,uninterrupted,scavenge',\n",
    "                           constraint='pascal', \n",
    "                           cpus_per_task=4)\n",
    "\n",
    "jobs = list()\n",
    "folder = 'jrr_iclr'\n",
    "for subject in trange(len(log_files)):\n",
    "    jobs.append([subject,])\n",
    "jobs = executor.map_array(get_evoked, *zip(*jobs))"
   ]
  },
  {
   "cell_type": "code",
   "execution_count": null,
   "metadata": {},
   "outputs": [],
   "source": [
    "# retrieve results\n",
    "all_evo = list()\n",
    "for job in jobs:\n",
    "    print('*', end='')\n",
    "    try:\n",
    "        evo = job.result()\n",
    "        all_evo.append(evo.data)\n",
    "    except:\n",
    "        pass\n",
    "evoked = mne.EvokedArray(np.mean(all_evo, 0), evo.info,  tmin=evo.times[0])"
   ]
  },
  {
   "cell_type": "code",
   "execution_count": null,
   "metadata": {},
   "outputs": [],
   "source": [
    "evoked = get_evoked(0)"
   ]
  },
  {
   "cell_type": "code",
   "execution_count": null,
   "metadata": {},
   "outputs": [],
   "source": [
    "evoked = mne.EvokedArray(np.mean(all_evo, 0), evo.info,  tmin=evo.times[0])"
   ]
  },
  {
   "cell_type": "code",
   "execution_count": null,
   "metadata": {},
   "outputs": [],
   "source": [
    "fig = plt.figure()\n",
    "axes = [fig.add_subplot(2, 4 , idx+1) for idx in range(4)]\n",
    "ax = fig.add_subplot(2, 1 , 2)\n",
    "\n",
    "tois = [0., .075, .125, .350]\n",
    "evoked.plot_topomap(times=tois,\n",
    "                   ch_type='grad', sensors=False, axes=axes,\n",
    "                   colorbar=False, show=False, time_unit='ms');\n",
    "evoked.plot(spatial_colors=True, \n",
    "            picks=mne.pick_types(evoked.info, 'mag'), axes=[ax],\n",
    "            show=False, time_unit='ms', window_title=False);\n",
    "for t in tois:\n",
    "    ax.axvline(t*1e3, color='k', lw=.5)\n",
    "ax.set_title('')\n",
    "ax.set_xlim(-100, 600)\n",
    "ax.set_xlabel('Time from word onset (ms)')\n",
    "ax.spines['top'].set_visible(False)\n",
    "ax.spines['right'].set_visible(False)\n",
    "\n",
    "fig.savefig('meg_evoked.pdf')"
   ]
  },
  {
   "cell_type": "code",
   "execution_count": null,
   "metadata": {},
   "outputs": [],
   "source": [
    "from scipy.stats import pearsonr\n",
    "r = np.zeros((4, 4))\n",
    "for i in range(4):\n",
    "    for j in range(4):\n",
    "        r[i, j], _ = pearsonr(features[:,i], features[:,j])"
   ]
  },
  {
   "cell_type": "code",
   "execution_count": null,
   "metadata": {},
   "outputs": [],
   "source": [
    "plt.matshow(r, cmap='RdBu_r', vmin=-1, vmax=1)\n",
    "plt.colorbar()"
   ]
  }
 ],
 "metadata": {
  "kernelspec": {
   "display_name": "Python 3",
   "language": "python",
   "name": "python3"
  },
  "language_info": {
   "codemirror_mode": {
    "name": "ipython",
    "version": 3
   },
   "file_extension": ".py",
   "mimetype": "text/x-python",
   "name": "python",
   "nbconvert_exporter": "python",
   "pygments_lexer": "ipython3",
   "version": "3.6.8"
  }
 },
 "nbformat": 4,
 "nbformat_minor": 2
}
